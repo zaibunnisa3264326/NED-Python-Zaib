{
 "cells": [
  {
   "cell_type": "markdown",
   "id": "3fae063f-d60c-472f-bacc-a16c4a40ee50",
   "metadata": {},
   "source": [
    "# Shallow Copy"
   ]
  },
  {
   "cell_type": "code",
   "execution_count": 1,
   "id": "8f1bb15b-756a-4d6e-9526-cc8d26d3bb2f",
   "metadata": {},
   "outputs": [
    {
     "ename": "NameError",
     "evalue": "name 'name2' is not defined",
     "output_type": "error",
     "traceback": [
      "\u001b[1;31m---------------------------------------------------------------------------\u001b[0m",
      "\u001b[1;31mNameError\u001b[0m                                 Traceback (most recent call last)",
      "Cell \u001b[1;32mIn[1], line 1\u001b[0m\n\u001b[1;32m----> 1\u001b[0m name2\u001b[38;5;241m-\u001b[39m\u001b[38;5;124m\"\u001b[39m\u001b[38;5;124mHassan\u001b[39m\u001b[38;5;124m\"\u001b[39m\n\u001b[0;32m      2\u001b[0m \u001b[38;5;28mid\u001b[39m(name2)\n",
      "\u001b[1;31mNameError\u001b[0m: name 'name2' is not defined"
     ]
    }
   ],
   "source": [
    "name2-\"Hassan\"\n",
    "id(name2)"
   ]
  },
  {
   "cell_type": "code",
   "execution_count": 2,
   "id": "d18e4ed2-8f76-4160-a6aa-3df486e6f6be",
   "metadata": {},
   "outputs": [
    {
     "data": {
      "text/plain": [
       "2282551048160"
      ]
     },
     "execution_count": 2,
     "metadata": {},
     "output_type": "execute_result"
    }
   ],
   "source": [
    "name2=\"Hassan\"\n",
    "id(name2)"
   ]
  },
  {
   "cell_type": "markdown",
   "id": "21582083-a8cb-48c9-b813-5ada031e6a56",
   "metadata": {},
   "source": [
    "#Shallow Copy"
   ]
  },
  {
   "cell_type": "code",
   "execution_count": 3,
   "id": "a9e43ef7-ed5d-4776-bb75-1a17daa96a8e",
   "metadata": {},
   "outputs": [
    {
     "name": "stdout",
     "output_type": "stream",
     "text": [
      "Hassan\n"
     ]
    }
   ],
   "source": [
    "name3= name2\n",
    "print(name3)"
   ]
  },
  {
   "cell_type": "code",
   "execution_count": 4,
   "id": "b872846a-1272-4b9b-8801-ae721bfe5079",
   "metadata": {},
   "outputs": [
    {
     "data": {
      "text/plain": [
       "2282551048160"
      ]
     },
     "execution_count": 4,
     "metadata": {},
     "output_type": "execute_result"
    }
   ],
   "source": [
    "id(name3)"
   ]
  },
  {
   "cell_type": "code",
   "execution_count": 5,
   "id": "3c58af68-b7fd-4554-adf2-cfe904f5be87",
   "metadata": {},
   "outputs": [
    {
     "name": "stdout",
     "output_type": "stream",
     "text": [
      "Aneeq\n",
      "2282553802640\n"
     ]
    }
   ],
   "source": [
    "name2=\"Aneeq\"\n",
    "print(name2)\n",
    "print(id(name2))"
   ]
  },
  {
   "cell_type": "code",
   "execution_count": 6,
   "id": "23c50ce4-4d55-4cbc-b6ef-572d1572b6bb",
   "metadata": {},
   "outputs": [
    {
     "name": "stdout",
     "output_type": "stream",
     "text": [
      "name1:  2282553802208\n",
      "name2:  2282553802208\n"
     ]
    }
   ],
   "source": [
    "name1= \"hassan\"\n",
    "name2= \"hassan\"\n",
    "print(\"name1: \", id(name1))\n",
    "print(\"name2: \", id(name2))"
   ]
  },
  {
   "cell_type": "markdown",
   "id": "4890437d-89d6-4acf-a657-ba8e0d901621",
   "metadata": {},
   "source": [
    "# ASSIGNMENT OPERATORS"
   ]
  },
  {
   "cell_type": "code",
   "execution_count": 9,
   "id": "1111565e-29ea-4ce0-86a6-6e06fd982456",
   "metadata": {},
   "outputs": [
    {
     "name": "stdout",
     "output_type": "stream",
     "text": [
      "190\n",
      "9000\n",
      "10\n",
      "1\n",
      "1000000000000000000000000000000000000000000000000000000000000000000000000000000000000000000000000000000000000000000000000000000000000000000000000000000000000000000000000000000000000\n"
     ]
    }
   ],
   "source": [
    "x=90\n",
    "y=100\n",
    "print(x+y)\n",
    "print(x*y)\n",
    "print(y%x) #remainder\n",
    "print(y//x) #floor division\n",
    "print(y**x) #exponent 100^19\n"
   ]
  },
  {
   "cell_type": "code",
   "execution_count": 10,
   "id": "ff295048-d0be-4868-9541-2fb50e5fd601",
   "metadata": {},
   "outputs": [
    {
     "name": "stdout",
     "output_type": "stream",
     "text": [
      "119 <class 'int'>\n",
      "-81\n",
      "1900\n",
      "5\n",
      "5\n",
      "100000000000000000000000000000000000000\n"
     ]
    }
   ],
   "source": [
    "x=19\n",
    "y=100\n",
    "print(x+y, type(x+y))\n",
    "print(x-y)\n",
    "print(x*y)\n",
    "print(y%x) #remainder\n",
    "print(y//x) #floor division\n",
    "print(y**x) #exponent 100^19"
   ]
  },
  {
   "cell_type": "code",
   "execution_count": null,
   "id": "e73bd8b5-9a75-4ad4-b26b-0e61520bfa48",
   "metadata": {},
   "outputs": [],
   "source": [
    "age=2\n"
   ]
  },
  {
   "cell_type": "markdown",
   "id": "37aa41f1-b12a-4c5d-8fd9-2cc3a7d743ec",
   "metadata": {},
   "source": [
    "# Comparison Operators"
   ]
  },
  {
   "cell_type": "code",
   "execution_count": 12,
   "id": "4b3b8efa-c202-488b-8b7f-0e5219e13d18",
   "metadata": {},
   "outputs": [
    {
     "name": "stdout",
     "output_type": "stream",
     "text": [
      "False\n"
     ]
    }
   ],
   "source": [
    "a=100\n",
    "b=105\n",
    "print (a==b)\n",
    "#check whether the 2 values are equal or not"
   ]
  },
  {
   "cell_type": "code",
   "execution_count": 14,
   "id": "d5b1c4e1-3ca4-4a07-a13d-e9307c00e8c1",
   "metadata": {},
   "outputs": [
    {
     "name": "stdout",
     "output_type": "stream",
     "text": [
      "False\n",
      "True\n",
      "True\n",
      "False\n",
      "True\n"
     ]
    }
   ],
   "source": [
    "print(a>b)\n",
    "print(a<b)\n",
    "print(a<=b)\n",
    "print(a>=b)\n",
    "print(a!=b) #doesnt eaqual to"
   ]
  },
  {
   "cell_type": "code",
   "execution_count": 15,
   "id": "d69dffcd-1a33-4839-8bb7-98b222aab7be",
   "metadata": {},
   "outputs": [],
   "source": [
    "a=100\n",
    "b=104565.24"
   ]
  },
  {
   "cell_type": "markdown",
   "id": "d7949040-beeb-4b4e-9019-e93c5a7be8b9",
   "metadata": {},
   "source": [
    "# Type Casting"
   ]
  },
  {
   "cell_type": "code",
   "execution_count": 18,
   "id": "972807fb-59c9-46cc-b26c-bb214866691d",
   "metadata": {},
   "outputs": [
    {
     "name": "stdout",
     "output_type": "stream",
     "text": [
      "<class 'int'>\n"
     ]
    }
   ],
   "source": [
    "x=100\n",
    "print(type (x))"
   ]
  },
  {
   "cell_type": "code",
   "execution_count": 27,
   "id": "10f46289-3299-432b-8db0-e61a136d58ae",
   "metadata": {},
   "outputs": [
    {
     "name": "stdout",
     "output_type": "stream",
     "text": [
      "100+19.524\n"
     ]
    },
    {
     "data": {
      "text/plain": [
       "119.524"
      ]
     },
     "execution_count": 27,
     "metadata": {},
     "output_type": "execute_result"
    }
   ],
   "source": [
    "a= \"100\"\n",
    "b=\"19.524\"\n",
    "expr= f\"{a}+{b}\" #FORMATTED STRING\n",
    "print(expr)\n",
    "eval(expr) #allows us to calcualate strings if they have numerical meaning"
   ]
  },
  {
   "cell_type": "markdown",
   "id": "a99f7148-b2cc-4643-9b09-4e9bff872222",
   "metadata": {},
   "source": [
    "# formatted string"
   ]
  },
  {
   "cell_type": "code",
   "execution_count": 30,
   "id": "56c67b2a-7743-4339-a001-dd6a6bcc2631",
   "metadata": {},
   "outputs": [],
   "source": [
    "#when you want to add variable value to your string"
   ]
  },
  {
   "cell_type": "code",
   "execution_count": null,
   "id": "24ae7474-3176-4594-89c1-a764acdee956",
   "metadata": {},
   "outputs": [],
   "source": [
    "name =str ("
   ]
  },
  {
   "cell_type": "code",
   "execution_count": null,
   "id": "f5fbeaf4-1025-4223-9204-3b1e830c8d39",
   "metadata": {},
   "outputs": [],
   "source": [
    "#TRUE 1\n",
    "#FALASE "
   ]
  },
  {
   "cell_type": "markdown",
   "id": "b63e81c9-adcd-4dc6-99b0-4356ec3e0fb7",
   "metadata": {},
   "source": [
    "# LOGICAL OPERATOR"
   ]
  },
  {
   "cell_type": "code",
   "execution_count": 33,
   "id": "6291d952-2b70-4d14-9d50-1de6bc8d7ead",
   "metadata": {},
   "outputs": [
    {
     "data": {
      "text/plain": [
       "False"
      ]
     },
     "execution_count": 33,
     "metadata": {},
     "output_type": "execute_result"
    }
   ],
   "source": [
    "x=10\n",
    "y=11\n",
    "z=12\n",
    "x<y and y>z"
   ]
  },
  {
   "cell_type": "code",
   "execution_count": 34,
   "id": "46769a48-e2c5-499a-a9db-8e7e93bcfbb2",
   "metadata": {},
   "outputs": [
    {
     "data": {
      "text/plain": [
       "True"
      ]
     },
     "execution_count": 34,
     "metadata": {},
     "output_type": "execute_result"
    }
   ],
   "source": [
    "# and means all expressions \n",
    "x<y or y>z"
   ]
  },
  {
   "cell_type": "code",
   "execution_count": 35,
   "id": "084ed51b-a327-417e-9918-aa97ecbdfb5b",
   "metadata": {},
   "outputs": [
    {
     "data": {
      "text/plain": [
       "False"
      ]
     },
     "execution_count": 35,
     "metadata": {},
     "output_type": "execute_result"
    }
   ],
   "source": [
    "x<y and y>z or z<y"
   ]
  },
  {
   "cell_type": "code",
   "execution_count": null,
   "id": "26fc15f3-2823-447e-9b14-3b0c20e87216",
   "metadata": {},
   "outputs": [],
   "source": []
  }
 ],
 "metadata": {
  "kernelspec": {
   "display_name": "Python 3 (ipykernel)",
   "language": "python",
   "name": "python3"
  },
  "language_info": {
   "codemirror_mode": {
    "name": "ipython",
    "version": 3
   },
   "file_extension": ".py",
   "mimetype": "text/x-python",
   "name": "python",
   "nbconvert_exporter": "python",
   "pygments_lexer": "ipython3",
   "version": "3.12.7"
  }
 },
 "nbformat": 4,
 "nbformat_minor": 5
}
